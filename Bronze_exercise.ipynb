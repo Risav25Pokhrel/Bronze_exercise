{
 "cells": [
  {
   "cell_type": "code",
   "execution_count": 1,
   "id": "d236f758",
   "metadata": {},
   "outputs": [],
   "source": [
    "def one_tensor(M,N):\n",
    "    mn=[]\n",
    "    for i in range(len(M)):\n",
    "        for j in range(len(N)):\n",
    "            mn.append(M[i]*N[j])\n",
    "    return mn"
   ]
  },
  {
   "cell_type": "code",
   "execution_count": 2,
   "id": "9dfd471d",
   "metadata": {},
   "outputs": [
    {
     "name": "stdout",
     "output_type": "stream",
     "text": [
      "uv= [-2, -4, -6, -1, -2, -3, 0, 0, 0, 1, 2, 3]\n",
      "vu= [-2, -1, 0, 1, -4, -2, 0, 2, -6, -3, 0, 3]\n"
     ]
    }
   ],
   "source": [
    "# Find  𝑢⊗𝑣 and  𝑣⊗𝑢 for the vectors \n",
    "\n",
    "v=[1,2,3]\n",
    "u=[-2,-1,0,1]\n",
    "\n",
    "uv=one_tensor(u,v)\n",
    "vu=one_tensor(v,u);\n",
    "\n",
    "\n",
    "print(\"uv=\",uv)\n",
    "\n",
    "print(\"vu=\",vu)\n"
   ]
  },
  {
   "cell_type": "code",
   "execution_count": 3,
   "id": "3df1b86c",
   "metadata": {},
   "outputs": [],
   "source": [
    "#defining tensor function\n",
    "def multidim_tensor(M,N):\n",
    "    MN=[]\n",
    "\n",
    "    col=len(M[0])*len(N[0])\n",
    "    row=len(M)*len(N)\n",
    "\n",
    "    for i in range(row):\n",
    "        MN.append([])\n",
    "        for j in range(col):\n",
    "            MN[i].append(0)\n",
    "        \n",
    "\n",
    "    for i in range(len(M)):#\n",
    "        for j in range(len(M[0])):\n",
    "            m = M[i][j]\n",
    "            for k in range(len(N)):\n",
    "                for l in range(len(N[0])):\n",
    "                    n = N[k][l]\n",
    "                    MN[i*len(M[0])+k][len(N[0])*j+l] = m*n\n",
    "                \n",
    "    return MN"
   ]
  },
  {
   "cell_type": "code",
   "execution_count": 16,
   "id": "bf508250",
   "metadata": {},
   "outputs": [
    {
     "name": "stdout",
     "output_type": "stream",
     "text": [
      "[0, 0, 0, -2, 0, 2, -1, 0, 1]\n",
      "[0, 0, 0, -4, -2, 4, -2, -1, 2]\n",
      "[0, 0, 0, 2, 4, -4, 1, 2, -2]\n",
      "[-3, 0, 3, 1, 0, -1, 2, 0, -2]\n",
      "[-6, -3, 6, 2, 1, -2, 4, 2, -4]\n",
      "[3, 6, -6, -1, -2, 2, -2, -4, 4]\n",
      "[1, 0, -1, -1, 0, 1, 0, 0, 0]\n",
      "[2, 1, -2, -2, -1, 2, 0, 0, 0]\n",
      "[-1, -2, 2, 1, 2, -2, 0, 0, 0]\n"
     ]
    }
   ],
   "source": [
    "# matrix M\n",
    "M = [ \n",
    "    [-1,0,1],\n",
    "    [-2,-1,2],\n",
    "    [1,2,-2]\n",
    "]\n",
    "\n",
    "# matrix N\n",
    "N = [\n",
    "    [0,2,1],\n",
    "    [3,-1,-2],\n",
    "    [-1,1,0]\n",
    "    ]\n",
    "\n",
    "mn=multidim_tensor(N,M)\n",
    "\n",
    "for i in range(len(mn)):\n",
    "    print(mn[i])"
   ]
  },
  {
   "cell_type": "code",
   "execution_count": 17,
   "id": "9205e512",
   "metadata": {},
   "outputs": [
    {
     "name": "stdout",
     "output_type": "stream",
     "text": [
      "[0, -2, 0, 0, 0, 2]\n",
      "[-3, 1, 0, 0, 3, -1]\n",
      "[1, -1, 0, 0, -1, 1]\n",
      "[0, -4, 0, -2, 0, 4]\n",
      "[-6, 2, -3, 1, 6, -2]\n",
      "[2, -2, 1, -1, -2, 2]\n"
     ]
    }
   ],
   "source": [
    "M=[\n",
    "    [-1,0,1],\n",
    "    [-2,-1,2]\n",
    "]\n",
    "\n",
    "N=[\n",
    "    [0,2],\n",
    "    [3,-1],\n",
    "    [-1,1]\n",
    "]\n",
    "\n",
    "mn=multidim_tensor(M,N)\n",
    "\n",
    "for i in range(len(mn)):\n",
    "    print(mn[i])"
   ]
  },
  {
   "cell_type": "code",
   "execution_count": 6,
   "id": "bd3d3f2f",
   "metadata": {},
   "outputs": [
    {
     "data": {
      "image/png": "[encoded data removed]",
      "text/plain": [
       "<Figure size 321.544x200.667 with 1 Axes>"
      ]
     },
     "execution_count": 6,
     "metadata": {},
     "output_type": "execute_result"
    }
   ],
   "source": [
    "#1 qubit system\n",
    "#when using one beam splitter\n",
    "from qiskit import *\n",
    "\n",
    "q=QuantumRegister(1,\"Qreg\")\n",
    "c=ClassicalRegister(1,\"Creg\")\n",
    "\n",
    "qc=QuantumCircuit(q,c)\n",
    "\n",
    "qc.h(q)#random spin\n",
    "\n",
    "qc.measure(q,c)\n",
    "\n",
    "qc.draw(output=\"mpl\")"
   ]
  },
  {
   "cell_type": "code",
   "execution_count": 7,
   "id": "74d5ddd0",
   "metadata": {},
   "outputs": [
    {
     "name": "stdout",
     "output_type": "stream",
     "text": [
      "Spin up probability=  0.49\n",
      "Spin up probability=  0.51\n",
      "{'0': 490, '1': 510}\n"
     ]
    }
   ],
   "source": [
    "backend=Aer.get_backend(\"qasm_simulator\")\n",
    "\n",
    "jobs=execute(qc,backend,shots=1000)\n",
    "counts=jobs.result().get_counts(qc)\n",
    "\n",
    "n_zero=counts['0']\n",
    "n_one=counts['1']\n",
    "\n",
    "print(\"Spin up probability= \",n_zero/1000)\n",
    "print(\"Spin up probability= \",n_one/1000)\n",
    "\n",
    "print(counts)\n"
   ]
  },
  {
   "cell_type": "code",
   "execution_count": 8,
   "id": "e048054a",
   "metadata": {},
   "outputs": [
    {
     "data": {
      "image/png": "[encoded data removed]",
      "text/plain": [
       "<Figure size 521.622x200.667 with 1 Axes>"
      ]
     },
     "execution_count": 8,
     "metadata": {},
     "output_type": "execute_result"
    }
   ],
   "source": [
    "#interference of state\n",
    "\n",
    "q1=QuantumRegister(1,\"Q1_reg\")\n",
    "\n",
    "c1=ClassicalRegister(1,\"C1_reg\")\n",
    "\n",
    "qc1=QuantumCircuit(q1,c1)\n",
    "\n",
    "qc1.x(q1)#change the spin to spin up\n",
    "\n",
    "qc1.h(q1)#random spin\n",
    "\n",
    "qc1.h(q1)\n",
    "\n",
    "qc1.measure(q1,c1)\n",
    "\n",
    "qc1.draw(output=\"mpl\")"
   ]
  },
  {
   "cell_type": "code",
   "execution_count": 9,
   "id": "71302daf",
   "metadata": {},
   "outputs": [
    {
     "name": "stdout",
     "output_type": "stream",
     "text": [
      "{'1': 1000}\n"
     ]
    }
   ],
   "source": [
    "backend2=Aer.get_backend(\"qasm_simulator\")\n",
    "\n",
    "jobs=execute(qc1,backend2,shots=1000)\n",
    "\n",
    "counts=jobs.result().get_counts(qc1)\n",
    "\n",
    "print(counts)"
   ]
  },
  {
   "cell_type": "code",
   "execution_count": 10,
   "id": "a096105b",
   "metadata": {},
   "outputs": [
    {
     "name": "stdout",
     "output_type": "stream",
     "text": [
      "0.265\n",
      "0.735\n"
     ]
    }
   ],
   "source": [
    "#using bloch sphere unit circle\n",
    "from random import randrange\n",
    "from math import sin,cos, pi\n",
    "\n",
    "random_angle=randrange(360)\n",
    "\n",
    "radian_angle=random_angle*pi/180\n",
    "\n",
    "expected_value_of_0=cos(radian_angle)**2\n",
    "expected_value_of_1=sin(radian_angle)**2\n",
    "\n",
    "print(round(expected_value_of_0,3))\n",
    "print(round(expected_value_of_1,3))"
   ]
  },
  {
   "cell_type": "code",
   "execution_count": 19,
   "id": "d6117242",
   "metadata": {},
   "outputs": [
    {
     "name": "stdout",
     "output_type": "stream",
     "text": [
      "|00>=  [1, 0, 0, 0]\n",
      "|01>=  [0, 1, 0, 0]\n",
      "|10>=  [0, 0, 1, 0]\n",
      "|11>=  [0, 0, 0, 1]\n"
     ]
    }
   ],
   "source": [
    "#2 qubit system  #### Verify the vector representations of  |00⟩,|01⟩,|10⟩,|11⟩\n",
    "zero=[1,0]\n",
    "one=[0,1]\n",
    "\n",
    "OO=one_tensor(zero,zero)\n",
    "Ol=one_tensor(zero,one)\n",
    "lO=one_tensor(one,zero)\n",
    "ll=one_tensor(one,one)\n",
    "print(\"|00>= \",OO)\n",
    "print(\"|01>= \",Ol)\n",
    "print(\"|10>= \",lO)\n",
    "print(\"|11>= \",ll)"
   ]
  },
  {
   "cell_type": "code",
   "execution_count": 20,
   "id": "00694e83",
   "metadata": {},
   "outputs": [
    {
     "name": "stdout",
     "output_type": "stream",
     "text": [
      "Initial State\n"
     ]
    },
    {
     "data": {
      "text/plain": [
       "array([0.+0.j, 1.+0.j, 0.+0.j, 0.+0.j])"
      ]
     },
     "execution_count": 20,
     "metadata": {},
     "output_type": "execute_result"
    }
   ],
   "source": [
    "#phasekickback and superposition\n",
    "from qiskit import *\n",
    "import numpy as np\n",
    "\n",
    "q=QuantumRegister(2)\n",
    "c=ClassicalRegister(2)\n",
    "\n",
    "qc=QuantumCircuit(q,c)\n",
    "\n",
    "qc.x(q[0])\n",
    "qc.barrier()\n",
    "print(\"Initial State\")\n",
    "backend=Aer.get_backend(\"statevector_simulator\")\n",
    "job=execute(qc,backend,shots=1000)\n",
    "result=job.result()\n",
    "statevector=result.get_statevector()\n",
    "np.around(statevector,2)\n"
   ]
  },
  {
   "cell_type": "code",
   "execution_count": 21,
   "id": "7d7ee6ae",
   "metadata": {},
   "outputs": [
    {
     "name": "stdout",
     "output_type": "stream",
     "text": [
      "Final state\n"
     ]
    },
    {
     "data": {
      "text/plain": [
       "array([-0.+0.j,  0.+0.j,  0.+0.j,  1.-0.j])"
      ]
     },
     "execution_count": 21,
     "metadata": {},
     "output_type": "execute_result"
    }
   ],
   "source": [
    "qc.h([1,0])\n",
    "\n",
    "qc.cx(1,0)\n",
    "\n",
    "qc.h([1,0])\n",
    "print(\"Final state\")\n",
    "job=execute(qc,backend,shots=1000)\n",
    "result=job.result()\n",
    "statevector=result.get_statevector()\n",
    "np.around(statevector,2)"
   ]
  },
  {
   "cell_type": "code",
   "execution_count": 34,
   "id": "82c19fc1",
   "metadata": {},
   "outputs": [
    {
     "data": {
      "text/plain": [
       "array([0.71+0.j, 0.  +0.j, 0.  +0.j, 0.71+0.j])"
      ]
     },
     "execution_count": 34,
     "metadata": {},
     "output_type": "execute_result"
    }
   ],
   "source": [
    "#Generetion of the 4 bell entangle state\n",
    "\n",
    "# 1/sqrt(2) *(|00>+|11>)\n",
    "from qiskit import *\n",
    "import numpy as np\n",
    "\n",
    "q=QuantumRegister(2,\"Q\")\n",
    "c=ClassicalRegister(2,\"C\")\n",
    "\n",
    "qc=QuantumCircuit(q,c)\n",
    "\n",
    "qc.h(1)\n",
    "\n",
    "qc.barrier()\n",
    "\n",
    "qc.cx(1,0)\n",
    "\n",
    "backend=Aer.get_backend(\"statevector_simulator\")\n",
    "\n",
    "job=execute(qc,backend,shots=1000)\n",
    "result=job.result()\n",
    "statevector=result.get_statevector()\n",
    "np.around(statevector,2)"
   ]
  },
  {
   "cell_type": "code",
   "execution_count": 35,
   "id": "95be01b7",
   "metadata": {},
   "outputs": [
    {
     "data": {
      "image/png": "[encoded data removed]",
      "text/plain": [
       "<Figure size 542.532x284.278 with 1 Axes>"
      ]
     },
     "execution_count": 35,
     "metadata": {},
     "output_type": "execute_result"
    }
   ],
   "source": [
    "qc.measure(q,c)\n",
    "qc.draw(output=\"mpl\")"
   ]
  },
  {
   "cell_type": "code",
   "execution_count": 39,
   "id": "60374d07",
   "metadata": {},
   "outputs": [
    {
     "data": {
      "text/plain": [
       "array([ 0.71+0.j,  0.  +0.j,  0.  +0.j, -0.71-0.j])"
      ]
     },
     "execution_count": 39,
     "metadata": {},
     "output_type": "execute_result"
    }
   ],
   "source": [
    "# 1/sqrt(2) *(|00>-|11>)\n",
    "\n",
    "from qiskit import *\n",
    "import numpy as np\n",
    "\n",
    "q=QuantumRegister(2,\"Q\")\n",
    "c=ClassicalRegister(2,\"C\")\n",
    "\n",
    "qc=QuantumCircuit(q,c)\n",
    "\n",
    "qc.h(1)\n",
    "qc.z(1)\n",
    "\n",
    "qc.barrier()\n",
    "\n",
    "qc.cx(1,0)\n",
    "backend=Aer.get_backend(\"statevector_simulator\")\n",
    "\n",
    "job=execute(qc,backend,shots=1000)\n",
    "result=job.result()\n",
    "statevector=result.get_statevector()\n",
    "np.around(statevector,2)"
   ]
  },
  {
   "cell_type": "code",
   "execution_count": 40,
   "id": "ee30efca",
   "metadata": {},
   "outputs": [
    {
     "data": {
      "image/png": "[encoded data removed]",
      "text/plain": [
       "<Figure size 626.143x284.278 with 1 Axes>"
      ]
     },
     "execution_count": 40,
     "metadata": {},
     "output_type": "execute_result"
    }
   ],
   "source": [
    "qc.measure(q,c)\n",
    "qc.draw(output=\"mpl\")"
   ]
  },
  {
   "cell_type": "code",
   "execution_count": 3,
   "id": "421a8a32",
   "metadata": {},
   "outputs": [
    {
     "data": {
      "text/plain": [
       "array([0.  +0.j, 0.71+0.j, 0.71+0.j, 0.  +0.j])"
      ]
     },
     "execution_count": 3,
     "metadata": {},
     "output_type": "execute_result"
    }
   ],
   "source": [
    "# 1/sqrt(2) *(|01>+|10>)\n",
    "from qiskit import *\n",
    "import numpy as np\n",
    "\n",
    "q=QuantumRegister(2,\"Q\")\n",
    "c=ClassicalRegister(2,\"C\")\n",
    "\n",
    "qc=QuantumCircuit(q,c)\n",
    "\n",
    "qc.x(0)\n",
    "qc.h(1)\n",
    "\n",
    "qc.barrier()\n",
    "\n",
    "qc.cx(1,0)\n",
    "backend=Aer.get_backend(\"statevector_simulator\")\n",
    "\n",
    "job=execute(qc,backend,shots=1000)\n",
    "result=job.result()\n",
    "statevector=result.get_statevector()\n",
    "np.around(statevector,2)"
   ]
  },
  {
   "cell_type": "code",
   "execution_count": 4,
   "id": "c008ac7d",
   "metadata": {},
   "outputs": [
    {
     "data": {
      "image/png": "[encoded data removed]",
      "text/plain": [
       "<Figure size 542.532x284.278 with 1 Axes>"
      ]
     },
     "execution_count": 4,
     "metadata": {},
     "output_type": "execute_result"
    }
   ],
   "source": [
    "qc.measure(q,c)\n",
    "qc.draw(output=\"mpl\")"
   ]
  },
  {
   "cell_type": "code",
   "execution_count": 5,
   "id": "09d2f05c",
   "metadata": {},
   "outputs": [
    {
     "data": {
      "text/plain": [
       "array([ 0.  +0.j,  0.71+0.j, -0.71-0.j,  0.  +0.j])"
      ]
     },
     "execution_count": 5,
     "metadata": {},
     "output_type": "execute_result"
    }
   ],
   "source": [
    "#\n",
    "from qiskit import *\n",
    "import numpy as np\n",
    "\n",
    "q=QuantumRegister(2,\"Q\")\n",
    "c=ClassicalRegister(2,\"C\")\n",
    "\n",
    "qc=QuantumCircuit(q,c)\n",
    "\n",
    "qc.x([0,1])\n",
    "qc.h(1)\n",
    "\n",
    "qc.barrier()\n",
    "\n",
    "qc.cx(1,0)\n",
    "backend=Aer.get_backend(\"statevector_simulator\")\n",
    "\n",
    "job=execute(qc,backend,shots=1000)\n",
    "result=job.result()\n",
    "statevector=result.get_statevector()\n",
    "np.around(statevector,2)"
   ]
  },
  {
   "cell_type": "code",
   "execution_count": 6,
   "id": "1ced0ee4",
   "metadata": {},
   "outputs": [
    {
     "data": {
      "image/png": "[encoded data removed]",
      "text/plain": [
       "<Figure size 626.143x284.278 with 1 Axes>"
      ]
     },
     "execution_count": 6,
     "metadata": {},
     "output_type": "execute_result"
    }
   ],
   "source": [
    "qc.measure(q,c)\n",
    "qc.draw(output=\"mpl\")"
   ]
  },
  {
   "cell_type": "code",
   "execution_count": null,
   "id": "cbdf390d",
   "metadata": {},
   "outputs": [],
   "source": []
  }
 ],
 "metadata": {
  "kernelspec": {
   "display_name": "Python 3 (ipykernel)",
   "language": "python",
   "name": "python3"
  },
  "language_info": {
   "codemirror_mode": {
    "name": "ipython",
    "version": 3
   },
   "file_extension": ".py",
   "mimetype": "text/x-python",
   "name": "python",
   "nbconvert_exporter": "python",
   "pygments_lexer": "ipython3",
   "version": "3.10.9"
  }
 },
 "nbformat": 4,
 "nbformat_minor": 5
}
